{
 "cells": [
  {
   "cell_type": "code",
   "execution_count": 18,
   "metadata": {},
   "outputs": [],
   "source": [
    "import base64\n",
    "jpgtxt = base64.encodebytes(open(\"IMG_20171209_154700746.jpg\",\"rb\").read())\n",
    "#print(jpgtxt)\n",
    "\n",
    "f = open(\"jpg1_b64.txt\", \"wb\")\n",
    "f.write(jpgtxt)\n",
    "f.close()\n",
    "# ----\n",
    "#newjpgtxt = open(\"jpg1_b64.txt\",\"rb\").read()"
   ]
  },
  {
   "cell_type": "code",
   "execution_count": 19,
   "metadata": {},
   "outputs": [],
   "source": [
    "f = open(\"jpg1_b64.txt\", \"wb\")\n",
    "f.write(jpgtxt)\n",
    "f.close()"
   ]
  },
  {
   "cell_type": "code",
   "execution_count": 21,
   "metadata": {},
   "outputs": [],
   "source": [
    "url = 'https://rc0di60ov8.execute-api.us-east-1.amazonaws.com/dev/parseImage'\n",
    "payload = {'image': jpgtxt.decode('utf-8'), 'email':'test'}\n",
    "headers = {'content-type': 'application/json'}\n",
    "r = requests.post(url, data=json.dumps(payload), headers=headers)"
   ]
  },
  {
   "cell_type": "code",
   "execution_count": 23,
   "metadata": {},
   "outputs": [
    {
     "name": "stdout",
     "output_type": "stream",
     "text": [
      "{\n",
      "    \"DateTime\": \"2017-12-07 19:43:00\",\n",
      "    \"Items\": {\n",
      "        \"APFELWEIN PUR o,so\": {\n",
      "            \"Amount\": 1,\n",
      "            \"Price\": 238\n",
      "        },\n",
      "        \"BLUTWURST 4009\": {\n",
      "            \"Amount\": 1,\n",
      "            \"Price\": 299\n",
      "        },\n",
      "        \"HAUSMACHER LEBERWU\": {\n",
      "            \"Amount\": 1,\n",
      "            \"Price\": 598\n",
      "        },\n",
      "        \"JAEGERMEISTER o,70\": {\n",
      "            \"Amount\": 1,\n",
      "            \"Price\": 999\n",
      "        },\n",
      "        \"KNUSPERMIJESLI\": {\n",
      "            \"Amount\": 1,\n",
      "            \"Price\": 579\n",
      "        },\n",
      "        \"KOELLN HUESLI KNUS\": {\n",
      "            \"Amount\": 1,\n",
      "            \"Price\": 579\n",
      "        },\n",
      "        \"SALATKROENIJNG\": {\n",
      "            \"Amount\": \"3\",\n",
      "            \"Price\": 237\n",
      "        }\n",
      "    },\n",
      "    \"Position\": \"Ortenbergstr.8 76135 Karlsruhe\",\n",
      "    \"TotalPrice\": 3529\n",
      "}\n"
     ]
    }
   ],
   "source": [
    "print(json.dumps(r.json(), indent=4, sort_keys=True))"
   ]
  },
  {
   "cell_type": "code",
   "execution_count": null,
   "metadata": {
    "collapsed": true
   },
   "outputs": [],
   "source": [
    ""
   ]
  }
 ],
 "metadata": {
  "kernelspec": {
   "display_name": "Python 3",
   "language": "python",
   "name": "python3"
  },
  "language_info": {
   "codemirror_mode": {
    "name": "ipython",
    "version": 3.0
   },
   "file_extension": ".py",
   "mimetype": "text/x-python",
   "name": "python",
   "nbconvert_exporter": "python",
   "pygments_lexer": "ipython3",
   "version": "3.5.2"
  }
 },
 "nbformat": 4,
 "nbformat_minor": 0
}